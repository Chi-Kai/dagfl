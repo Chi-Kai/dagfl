{
 "cells": [
  {
   "cell_type": "code",
   "execution_count": 2,
   "metadata": {},
   "outputs": [],
   "source": [
    "import time\n",
    "\n",
    "import tensorflow as tf\n",
    "import numpy as np\n",
    "import matplotlib.pyplot as plt\n",
    "import pandas as pd\n",
    "import os\n",
    "import json\n",
    "# from model import Model\n",
    "# from femnist.cnn import ClientModel\n",
    "# from utils.model_utils import read_data\n",
    "import pydash\n",
    "import math\n",
    "\n",
    "pd.set_option('display.max_columns', 500)"
   ]
  },
  {
   "cell_type": "code",
   "execution_count": 3,
   "metadata": {},
   "outputs": [],
   "source": [
    "from collections import defaultdict\n",
    "def read_dir(data_dir):\n",
    "    clients = []\n",
    "    groups = []\n",
    "    data = defaultdict(lambda : None)\n",
    "\n",
    "    files = os.listdir(data_dir)\n",
    "    files = [f for f in files if f.endswith('.json')]\n",
    "    for f in files:\n",
    "        file_path = os.path.join(data_dir,f)\n",
    "        with open(file_path, 'r') as inf:\n",
    "            cdata = json.load(inf)\n",
    "        clients.extend(cdata['users'])\n",
    "#         for idx, u in enumerate(cdata['users']):\n",
    "#             cluster_ids[u] = cdata['cluster_ids'][idx]\n",
    "        if 'hierarchies' in cdata:\n",
    "            groups.extend(cdata['hierarchies'])\n",
    "            print(\"hierarchies exist\")\n",
    "        data.update(cdata['user_data'])\n",
    "\n",
    "    clients = list(sorted(data.keys()))\n",
    "#     cluster_ids = [cluster_ids[c] for c in clients]\n",
    "    return clients, groups, data"
   ]
  },
  {
   "cell_type": "code",
   "execution_count": 4,
   "metadata": {},
   "outputs": [],
   "source": [
    "users, _, data,  = read_dir('/tf/work/tangle-learning/data/femnist-data/large/train')"
   ]
  },
  {
   "cell_type": "code",
   "execution_count": 5,
   "metadata": {},
   "outputs": [],
   "source": [
    "_, _, data_test,  = read_dir('/tf/work/tangle-learning/data/femnist-data/large/test')"
   ]
  },
  {
   "cell_type": "code",
   "execution_count": 6,
   "metadata": {},
   "outputs": [
    {
     "name": "stdout",
     "output_type": "stream",
     "text": [
      "[array([0, 1, 2, 3]), array([4, 5, 6]), array([7, 8, 9])]\n"
     ]
    }
   ],
   "source": [
    "num_clusters = 3\n",
    "digits_per_cluster = np.array_split(range(10), num_clusters)\n",
    "users_per_cluster = (len(users) // num_clusters)\n",
    "print(digits_per_cluster)"
   ]
  },
  {
   "cell_type": "code",
   "execution_count": 7,
   "metadata": {},
   "outputs": [
    {
     "name": "stdout",
     "output_type": "stream",
     "text": [
      "393581\n"
     ]
    }
   ],
   "source": [
    "from copy import deepcopy\n",
    "complete_data = deepcopy(data)\n",
    "for i in range(users_per_cluster * num_clusters, len(users)):\n",
    "    del complete_data[users[i]]\n",
    "for i in range(users_per_cluster * num_clusters):\n",
    "    complete_data[users[i]]['x'].extend(data_test[users[i]]['x'])\n",
    "    complete_data[users[i]]['y'].extend(data_test[users[i]]['y'])\n",
    "total_number_samples = np.sum([np.sum(np.array(value['y']) < 10) for (key, value) in complete_data.items()])\n",
    "print(total_number_samples)"
   ]
  },
  {
   "cell_type": "code",
   "execution_count": 59,
   "metadata": {},
   "outputs": [],
   "source": [
    "def clean(data, cluster_leak=0.1):\n",
    "    cleaned = {}\n",
    "    cluster_ids = {}\n",
    "    for user_index in range(len(complete_data.keys())):\n",
    "        userdata = {}\n",
    "        userdata['x'] = []\n",
    "        userdata['y'] = []\n",
    "        \n",
    "        # Add cluster data\n",
    "        for i in range(num_clusters):\n",
    "            user_index_2 = (user_index + i * users_per_cluster) % len(complete_data.keys())\n",
    "            mask = np.array([elem in digits_per_cluster[user_index // users_per_cluster] for elem in data[users[user_index_2]]['y']])\n",
    "            userdata['x'].extend(np.array(data[users[user_index_2]]['x'])[mask].tolist())\n",
    "            userdata['y'].extend(np.array(data[users[user_index_2]]['y'])[mask].tolist())\n",
    "        \n",
    "        # Add fraction of non-cluster data\n",
    "        num_cluster_data = len(userdata['y'])\n",
    "        num_digits_for_user = len(digits_per_cluster[user_index // users_per_cluster])\n",
    "        num_additional_data = round(num_cluster_data / num_digits_for_user * cluster_leak) * (10 - num_digits_for_user)\n",
    "        for i in range(num_clusters):\n",
    "            if len(userdata['y']) >= num_additional_data + num_cluster_data:\n",
    "                break\n",
    "            else:\n",
    "                missing_additional_data = num_additional_data + num_cluster_data - len(userdata['y'])\n",
    "                user_index_2 = (user_index + i * users_per_cluster) % len(complete_data.keys())\n",
    "                mask = np.array([elem not in digits_per_cluster[user_index // users_per_cluster] and elem < 10 for elem in data[users[user_index_2]]['y']])\n",
    "                userdata['x'].extend(np.array(data[users[user_index_2]]['x'])[mask][:missing_additional_data].tolist())\n",
    "                userdata['y'].extend(np.array(data[users[user_index_2]]['y'])[mask][:missing_additional_data].tolist())\n",
    "                    \n",
    "        # Shuffle\n",
    "        shuffle_mask = np.random.permutation(len(userdata['y']))\n",
    "        userdata['x'] = np.array(userdata['x'])[shuffle_mask].tolist()\n",
    "        userdata['y'] = np.array(userdata['y'])[shuffle_mask].tolist()\n",
    "                    \n",
    "        assert len(userdata['y']) > 0, 'Not enough data for client {}'.format(users[user_index])\n",
    "        \n",
    "        cleaned[users[user_index]] = userdata\n",
    "        cluster_ids[users[user_index]] = user_index // users_per_cluster\n",
    "    return cleaned, cluster_ids"
   ]
  },
  {
   "cell_type": "code",
   "execution_count": 40,
   "metadata": {},
   "outputs": [],
   "source": [
    "def split(cleaned_old, cluster_ids, test_split=0.1):\n",
    "    cleaned = {}\n",
    "    cleaned_test = {}\n",
    "    for username in cluster_ids.keys():\n",
    "        userdata = cleaned_old[username]\n",
    "        train_size = math.floor(len(userdata['y']) * (1 - test_split))\n",
    "        cleaned[username]= {'x': userdata['x'][:train_size],\n",
    "                            'y': userdata['y'][:train_size]}\n",
    "        cleaned_test[username]= {'x': userdata['x'][train_size:],\n",
    "                                 'y': userdata['y'][train_size:]}\n",
    "    return cleaned, cleaned_test, cluster_ids"
   ]
  },
  {
   "cell_type": "code",
   "execution_count": 60,
   "metadata": {},
   "outputs": [],
   "source": [
    "cleaned_old, cluster_ids = clean(complete_data)"
   ]
  },
  {
   "cell_type": "code",
   "execution_count": 22,
   "metadata": {},
   "outputs": [
    {
     "name": "stdout",
     "output_type": "stream",
     "text": [
      "3498\n",
      "3498\n"
     ]
    }
   ],
   "source": [
    "print(len(list(cleaned_old.keys())))\n",
    "print(len(cluster_ids))"
   ]
  },
  {
   "cell_type": "code",
   "execution_count": 61,
   "metadata": {},
   "outputs": [
    {
     "name": "stdout",
     "output_type": "stream",
     "text": [
      "472471\n"
     ]
    }
   ],
   "source": [
    "print(sum([len(value['y']) for (key, value) in cleaned_old.items()]))"
   ]
  },
  {
   "cell_type": "code",
   "execution_count": 66,
   "metadata": {},
   "outputs": [],
   "source": [
    "train_output = {}\n",
    "test_output = {} \n",
    "train_output['user_data'], test_output['user_data'], cluster_ids = split(cleaned_old, cluster_ids)\n",
    "train_output['cluster_ids'] = list(cluster_ids.values())\n",
    "train_output['users'] = list(cluster_ids.keys())\n",
    "\n",
    "test_output['cluster_ids'] = train_output['cluster_ids']\n",
    "test_output['users'] = train_output['users']"
   ]
  },
  {
   "cell_type": "code",
   "execution_count": 63,
   "metadata": {},
   "outputs": [
    {
     "name": "stdout",
     "output_type": "stream",
     "text": [
      "[4074 4495 3999 4046  432  380  447  509  406  445]\n",
      "[ 369  436  353  404 4001 3655 4086  419  380  371]\n",
      "[ 387  465  409  393  420  371  415 4243 3973 4055]\n"
     ]
    }
   ],
   "source": [
    "cluster_clients = {}\n",
    "for i in range(3):\n",
    "    cluster_clients[i] = []\n",
    "for index, client in enumerate(test_output['user_data'].keys()):\n",
    "    cluster_clients[cluster_ids[client]].append(client)\n",
    "\n",
    "cluster_data = {cluster: np.concatenate([test_output['user_data'][client]['y'] for client in clients]) for (cluster, clients) in cluster_clients.items()}\n",
    "\n",
    "for cluster in range(3):\n",
    "    hist, _ = np.histogram(cluster_data[cluster], bins=range(11))\n",
    "    print(hist)"
   ]
  },
  {
   "cell_type": "code",
   "execution_count": 67,
   "metadata": {},
   "outputs": [],
   "source": [
    "with open('../../.././data/femnist-data-clustered-alt-relaxed/train/data.json', 'w') as file: \n",
    "    json.dump(train_output, file)\n",
    "with open('../../.././data/femnist-data-clustered-alt-relaxed/test/data.json', 'w') as file: \n",
    "    json.dump(test_output, file)"
   ]
  },
  {
   "cell_type": "code",
   "execution_count": null,
   "metadata": {},
   "outputs": [],
   "source": []
  }
 ],
 "metadata": {
  "kernelspec": {
   "display_name": "Python 3",
   "language": "python",
   "name": "python3"
  },
  "language_info": {
   "codemirror_mode": {
    "name": "ipython",
    "version": 3
   },
   "file_extension": ".py",
   "mimetype": "text/x-python",
   "name": "python",
   "nbconvert_exporter": "python",
   "pygments_lexer": "ipython3",
   "version": "3.6.9"
  }
 },
 "nbformat": 4,
 "nbformat_minor": 2
}
