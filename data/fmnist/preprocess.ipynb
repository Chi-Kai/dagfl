{
 "metadata": {
  "language_info": {
   "codemirror_mode": {
    "name": "ipython",
    "version": 3
   },
   "file_extension": ".py",
   "mimetype": "text/x-python",
   "name": "python",
   "nbconvert_exporter": "python",
   "pygments_lexer": "ipython3",
   "version": "3.6.10-final"
  },
  "orig_nbformat": 2,
  "kernelspec": {
   "name": "python3",
   "display_name": "Python 3",
   "language": "python"
  }
 },
 "nbformat": 4,
 "nbformat_minor": 2,
 "cells": [
  {
   "cell_type": "code",
   "execution_count": 1,
   "metadata": {},
   "outputs": [],
   "source": [
    "import time\n",
    "\n",
    "import tensorflow as tf\n",
    "import numpy as np\n",
    "import matplotlib.pyplot as plt\n",
    "import pandas as pd\n",
    "import os\n",
    "import json\n",
    "# from model import Model\n",
    "# from femnist.cnn import ClientModel\n",
    "# from utils.model_utils import read_data\n",
    "# import pydash\n",
    "import math\n",
    "\n",
    "pd.set_option('display.max_columns', 500)"
   ]
  },
  {
   "cell_type": "code",
   "execution_count": 2,
   "metadata": {},
   "outputs": [],
   "source": [
    "from collections import defaultdict\n",
    "def read_dir(data_dir):\n",
    "    clients = []\n",
    "    cluster_ids = {}\n",
    "    groups = []\n",
    "    data = defaultdict(lambda : None)\n",
    "\n",
    "    files = os.listdir(data_dir)\n",
    "    files = [f for f in files if f.endswith('.json')]\n",
    "    for f in files:\n",
    "        file_path = os.path.join(data_dir,f)\n",
    "        with open(file_path, 'r') as inf:\n",
    "            cdata = json.load(inf)\n",
    "        clients.extend(cdata['users'])\n",
    "        if 'cluster_ids' in cdata:\n",
    "            for idx, u in enumerate(cdata['users']):\n",
    "                cluster_ids[u] = cdata['cluster_ids'][idx]\n",
    "        if 'hierarchies' in cdata:\n",
    "            groups.extend(cdata['hierarchies'])\n",
    "            print(\"hierarchies exist\")\n",
    "        data.update(cdata['user_data'])\n",
    "\n",
    "    clients = list(sorted(data.keys()))\n",
    "    # If there are no cluser_ids in the data, assign 0 for each user\n",
    "    cluster_ids = [cluster_ids[c] if c in cluster_ids else 0 for c in clients]\n",
    "    return clients, groups, data"
   ]
  },
  {
   "cell_type": "code",
   "execution_count": 3,
   "metadata": {},
   "outputs": [],
   "source": [
    "users, _, data,  = read_dir('../../.././data/femnist-data/large/train')\n",
    "_, _, data_test,  = read_dir('../../.././data/femnist-data/large/test')"
   ]
  },
  {
   "cell_type": "code",
   "execution_count": 4,
   "metadata": {},
   "outputs": [],
   "source": [
    "complete_data = data.copy()\n",
    "for username in users:\n",
    "    complete_data[username]['x'].extend(data_test[username]['x'])\n",
    "    complete_data[username]['y'].extend(data_test[username]['y'])"
   ]
  },
  {
   "cell_type": "code",
   "execution_count": 7,
   "metadata": {},
   "outputs": [],
   "source": [
    "def clean_and_split(data, test_split=0.1):\n",
    "    cleaned = {}\n",
    "    cleaned_test = {}\n",
    "    for user_index, username in enumerate(users):\n",
    "        userdata = {}\n",
    "        userdata['x']= []\n",
    "        userdata['y']= []\n",
    "        for index, y in enumerate(data[username]['y']):\n",
    "            if y < 10:\n",
    "                userdata['x'].append(data[username]['x'][index])\n",
    "                userdata['y'].append(data[username]['y'][index])\n",
    "        if (len(userdata['y']) > 0):\n",
    "            train_size = math.floor(len(userdata['y']) * (1 - test_split))\n",
    "            cleaned[username]= {'x': userdata['x'][:train_size],\n",
    "                                'y': userdata['y'][:train_size]}\n",
    "            cleaned_test[username]= {'x': userdata['x'][train_size:],\n",
    "                                     'y': userdata['y'][train_size:]}\n",
    "        else:\n",
    "            print('Not enough data for client {}'.format(username))\n",
    "    return cleaned, cleaned_test"
   ]
  },
  {
   "cell_type": "code",
   "execution_count": 9,
   "metadata": {},
   "outputs": [
    {
     "output_type": "stream",
     "name": "stdout",
     "text": [
      "Not enough data for client f0785_26\nNot enough data for client f1102_33\nNot enough data for client f1107_44\nNot enough data for client f1110_03\nNot enough data for client f1723_34\nNot enough data for client f1725_33\nNot enough data for client f1726_01\nNot enough data for client f1727_36\nNot enough data for client f1969_24\nNot enough data for client f1974_21\nNot enough data for client f1984_28\nNot enough data for client f1990_33\nNot enough data for client f1992_08\nNot enough data for client f1995_29\nNot enough data for client f2044_20\nNot enough data for client f2046_26\n"
     ]
    }
   ],
   "source": [
    "cleaned, cleaned_test = clean_and_split(complete_data)"
   ]
  },
  {
   "cell_type": "code",
   "execution_count": 10,
   "metadata": {},
   "outputs": [],
   "source": [
    "train_output = {}\n",
    "test_output = {} \n",
    "train_output['user_data'], test_output['user_data'], train_output['cluster_ids'] = cleaned, cleaned_test, [0 for _ in users]\n",
    "train_output['users'] = list(train_output['user_data'].keys())\n",
    "\n",
    "test_output['cluster_ids'] = train_output['cluster_ids']\n",
    "test_output['users'] = train_output['users']\n",
    "with open('../../.././data/fmnist/train/data.json', 'w') as f: \n",
    "    json.dump(train_output, f)\n",
    "with open('../../.././data/fmnist/test/data.json', 'w') as f: \n",
    "    json.dump(test_output, f)"
   ]
  },
  {
   "cell_type": "code",
   "execution_count": null,
   "metadata": {},
   "outputs": [],
   "source": []
  }
 ]
}
