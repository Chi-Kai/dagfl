{
 "cells": [
  {
   "cell_type": "code",
   "execution_count": null,
   "metadata": {},
   "outputs": [],
   "source": [
    "!RD /S /Q data\\all_data\n",
    "!python main.py -num-tasks 1000 -num-classes 5 -num-dim 60 -seed 1 --prob-clusters 0.2 0.3 0.3 0.2"
   ]
  },
  {
   "cell_type": "code",
   "execution_count": null,
   "metadata": {},
   "outputs": [],
   "source": [
    "from sklearn.linear_model import LogisticRegression\n",
    "from sklearn.preprocessing import StandardScaler\n",
    "import pandas as pd\n",
    "import numpy as np\n",
    "import json\n",
    "\n",
    "with open(\"data/all_data/data.json\") as f:\n",
    "    data = json.load(f)\n",
    "    f.close()"
   ]
  },
  {
   "cell_type": "code",
   "execution_count": null,
   "metadata": {},
   "outputs": [],
   "source": [
    "def fit_score(df, cluster=None):\n",
    "    X, y = df.iloc[:,:-3], df.iloc[:,-3]\n",
    "    logreg = LogisticRegression(\n",
    "        max_iter = 2000,\n",
    "        multi_class = 'multinomial',\n",
    "    )\n",
    "    scaler = StandardScaler()\n",
    "    X = scaler.fit_transform(X)\n",
    "    logreg.fit(X,y)\n",
    "    if cluster is not None:\n",
    "        print(\"Accuracy for cluster\", str(cluster) + \":\", np.round(logreg.score(X,y),3))\n",
    "    else:\n",
    "        print(\"Accuracy for all samples,\")\n",
    "        print(\"  not seperated by tasks:\", np.round(logreg.score(X,y),3))"
   ]
  },
  {
   "cell_type": "code",
   "execution_count": null,
   "metadata": {
    "scrolled": false
   },
   "outputs": [],
   "source": [
    "users = data[\"users\"]\n",
    "\n",
    "## make a pandas df from the json with X,y,user_id,cluster_id\n",
    "try:\n",
    "    del df\n",
    "except NameError:\n",
    "    pass\n",
    "for user in users:\n",
    "    cluster = data[\"cluster_ids\"][int(user)]\n",
    "    X = data[\"user_data\"][user][\"x\"]\n",
    "    y = data[\"user_data\"][user][\"y\"]\n",
    "    df_temp = pd.DataFrame(list(map(lambda a: tuple(a[0] + [a[1]]), zip(X,y))))\n",
    "    df_temp[\"user_id\"] = int(user)\n",
    "    df_temp[\"cluster_id\"] = int(cluster)\n",
    "    new_columns = df_temp.columns[:-3]\n",
    "    new_columns = list(map(lambda x: \"x_\" + str(x), new_columns)) + [\"y\", \"user_id\", \"cluster_id\"]\n",
    "    df_temp.columns = new_columns\n",
    "    try:\n",
    "        df = df.append(df_temp, ignore_index=True)\n",
    "    except NameError:\n",
    "        df = df_temp"
   ]
  },
  {
   "cell_type": "code",
   "execution_count": null,
   "metadata": {
    "scrolled": false
   },
   "outputs": [],
   "source": [
    "unique_classes = list(df.y.unique())\n",
    "unique_cluster = list(df.cluster_id.unique())\n",
    "input_dimensions = df.shape[1] - 3\n",
    "samples = df.shape[0]\n",
    "\n",
    "print(\"Number of Task Cluster:\", str(len(unique_cluster)) + \", Number of Classes:\", str(len(unique_classes)))\n",
    "print(\"Input Dimensions:\", str(input_dimensions) + \", Samples in Total:\", str(samples))\n",
    "print()\n",
    "print(\"Samples per Cluster:\")\n",
    "cluster_distribution = zip(list(df.cluster_id.value_counts().index),\n",
    "                            list(df.cluster_id.value_counts(normalize=False)),\n",
    "                            list(df.cluster_id.value_counts(normalize=True)))\n",
    "print(\"id, total, relative\")\n",
    "for cd in sorted(cluster_distribution):\n",
    "    print(cd[0], cd[1], np.round(cd[2],3))\n",
    "\n",
    "print()\n",
    "print(\"Samples per Class:\")\n",
    "class_distribution = zip(list(df.y.value_counts().index),\n",
    "                        list(df.y.value_counts(normalize=False)),\n",
    "                        list(df.y.value_counts(normalize=True)))\n",
    "print(\"id, total, relative\")\n",
    "for cd in sorted(class_distribution):\n",
    "    print(cd[0], cd[1], np.round(cd[2],3))\n",
    "print()\n",
    "\n",
    "### TRAINING IS HAPPENING HERE ###\n",
    "\n",
    "fit_score(df)\n",
    "for cl in sorted(unique_cluster):\n",
    "    df_cl = df.loc[df.cluster_id == cl]\n",
    "    fit_score(df_cl, cl)"
   ]
  },
  {
   "cell_type": "code",
   "execution_count": null,
   "metadata": {},
   "outputs": [],
   "source": []
  }
 ],
 "metadata": {
  "kernelspec": {
   "display_name": "Python 3",
   "language": "python",
   "name": "python3"
  },
  "language_info": {
   "codemirror_mode": {
    "name": "ipython",
    "version": 3
   },
   "file_extension": ".py",
   "mimetype": "text/x-python",
   "name": "python",
   "nbconvert_exporter": "python",
   "pygments_lexer": "ipython3",
   "version": "3.6.9"
  }
 },
 "nbformat": 4,
 "nbformat_minor": 4
}
