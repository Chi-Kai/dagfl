{
 "cells": [
  {
   "cell_type": "code",
   "execution_count": 18,
   "metadata": {},
   "outputs": [],
   "source": [
    "import time\n",
    "\n",
    "import tensorflow as tf\n",
    "import numpy as np\n",
    "import matplotlib.pyplot as plt\n",
    "import pandas as pd\n",
    "import os\n",
    "import json\n",
    "# from model import Model\n",
    "# from femnist.cnn import ClientModel\n",
    "# from utils.model_utils import read_data\n",
    "import pydash\n",
    "import math\n",
    "\n",
    "pd.set_option('display.max_columns', 500)"
   ]
  },
  {
   "cell_type": "code",
   "execution_count": 3,
   "metadata": {},
   "outputs": [],
   "source": [
    "IMAGE_SIZE = 28"
   ]
  },
  {
   "cell_type": "code",
   "execution_count": 21,
   "metadata": {},
   "outputs": [],
   "source": [
    "num_clusters = 5\n",
    "digits_per_cluster = np.array_split(range(10), num_clusters)\n",
    "users_per_cluster = (len(users) // num_clusters) + 1"
   ]
  },
  {
   "cell_type": "code",
   "execution_count": 4,
   "metadata": {},
   "outputs": [],
   "source": [
    "from collections import defaultdict\n",
    "def read_dir(data_dir):\n",
    "    clients = []\n",
    "    groups = []\n",
    "    data = defaultdict(lambda : None)\n",
    "\n",
    "    files = os.listdir(data_dir)\n",
    "    files = [f for f in files if f.endswith('.json')]\n",
    "    for f in files:\n",
    "        file_path = os.path.join(data_dir,f)\n",
    "        with open(file_path, 'r') as inf:\n",
    "            cdata = json.load(inf)\n",
    "        clients.extend(cdata['users'])\n",
    "#         for idx, u in enumerate(cdata['users']):\n",
    "#             cluster_ids[u] = cdata['cluster_ids'][idx]\n",
    "        if 'hierarchies' in cdata:\n",
    "            groups.extend(cdata['hierarchies'])\n",
    "            print(\"hierarchies exist\")\n",
    "        data.update(cdata['user_data'])\n",
    "\n",
    "    clients = list(sorted(data.keys()))\n",
    "#     cluster_ids = [cluster_ids[c] for c in clients]\n",
    "    return clients, groups, data"
   ]
  },
  {
   "cell_type": "code",
   "execution_count": 5,
   "metadata": {},
   "outputs": [],
   "source": [
    "users, _, data,  = read_dir('femnist-data/large/train')"
   ]
  },
  {
   "cell_type": "code",
   "execution_count": 12,
   "metadata": {},
   "outputs": [],
   "source": [
    "_, _, data_test,  = read_dir('femnist-data/large/test')"
   ]
  },
  {
   "cell_type": "code",
   "execution_count": 13,
   "metadata": {},
   "outputs": [],
   "source": [
    "complete_data = data.copy()\n",
    "for username in users:\n",
    "    complete_data[username]['x'].extend(data_test[username]['x'])\n",
    "    complete_data[username]['y'].extend(data_test[username]['y'])"
   ]
  },
  {
   "cell_type": "code",
   "execution_count": 14,
   "metadata": {},
   "outputs": [
    {
     "data": {
      "text/plain": [
       "9"
      ]
     },
     "execution_count": 14,
     "metadata": {},
     "output_type": "execute_result"
    }
   ],
   "source": [
    "complete_data['f3478_49']['y'][0]"
   ]
  },
  {
   "cell_type": "code",
   "execution_count": 15,
   "metadata": {},
   "outputs": [
    {
     "data": {
      "text/plain": [
       "'f0000_14'"
      ]
     },
     "execution_count": 15,
     "metadata": {},
     "output_type": "execute_result"
    }
   ],
   "source": [
    "users[0]"
   ]
  },
  {
   "cell_type": "code",
   "execution_count": 23,
   "metadata": {},
   "outputs": [],
   "source": [
    "def clean_and_split(data, test_split=0.1):\n",
    "    cleaned = {}\n",
    "    cleaned_test = {}\n",
    "    cluster_ids = [None] * len(users)\n",
    "    for user_index, username in enumerate(users):\n",
    "        userdata = {}\n",
    "        userdata['x']= []\n",
    "        userdata['y']= []\n",
    "        for index, y in enumerate(data[username]['y']):\n",
    "            if y < 10 and y in [user_index%5 , user_index%5+5]:\n",
    "                userdata['x'].append(data[username]['x'][index])\n",
    "                userdata['y'].append(0 if y<5 else 1)\n",
    "        if(len(userdata['y'])>0):\n",
    "            train_size = math.floor(len(userdata['y']) * (1 - test_split))\n",
    "            cleaned[username]= {'x': userdata['x'][:train_size],\n",
    "                                'y': userdata['y'][:train_size]}\n",
    "            cleaned_test[username]= {'x': userdata['x'][train_size:],\n",
    "                                     'y': userdata['y'][train_size:]}\n",
    "        else:\n",
    "            print('Not enough data for client {}'.format(username))\n",
    "        cluster_ids[user_index] = user_index%5\n",
    "    return cleaned, cleaned_test, cluster_ids"
   ]
  },
  {
   "cell_type": "code",
   "execution_count": 24,
   "metadata": {},
   "outputs": [
    {
     "name": "stdout",
     "output_type": "stream",
     "text": [
      "Not enough data for client f0785_26\n",
      "Not enough data for client f1102_33\n",
      "Not enough data for client f1107_44\n",
      "Not enough data for client f1110_03\n",
      "Not enough data for client f1723_34\n",
      "Not enough data for client f1725_33\n",
      "Not enough data for client f1726_01\n",
      "Not enough data for client f1727_36\n",
      "Not enough data for client f1969_24\n",
      "Not enough data for client f1974_21\n",
      "Not enough data for client f1984_28\n",
      "Not enough data for client f1990_33\n",
      "Not enough data for client f1992_08\n",
      "Not enough data for client f1995_29\n",
      "Not enough data for client f2044_20\n",
      "Not enough data for client f2046_26\n"
     ]
    },
    {
     "data": {
      "text/plain": [
       "[0, 0, 1, 0, 1, 1, 0, 1, 1, 1, 1, 1, 0, 1, 1, 1, 0, 0, 0, 0, 1]"
      ]
     },
     "execution_count": 24,
     "metadata": {},
     "output_type": "execute_result"
    }
   ],
   "source": [
    "cleaned, cleaned_test, cluster_ids = clean_and_split(complete_data)\n",
    "cleaned['f3478_49']['y']"
   ]
  },
  {
   "cell_type": "code",
   "execution_count": 27,
   "metadata": {},
   "outputs": [
    {
     "name": "stdout",
     "output_type": "stream",
     "text": [
      "Not enough data for client f0785_26\n",
      "Not enough data for client f1102_33\n",
      "Not enough data for client f1107_44\n",
      "Not enough data for client f1110_03\n",
      "Not enough data for client f1723_34\n",
      "Not enough data for client f1725_33\n",
      "Not enough data for client f1726_01\n",
      "Not enough data for client f1727_36\n",
      "Not enough data for client f1969_24\n",
      "Not enough data for client f1974_21\n",
      "Not enough data for client f1984_28\n",
      "Not enough data for client f1990_33\n",
      "Not enough data for client f1992_08\n",
      "Not enough data for client f1995_29\n",
      "Not enough data for client f2044_20\n",
      "Not enough data for client f2046_26\n"
     ]
    }
   ],
   "source": [
    "train_output = {}\n",
    "test_output = {} \n",
    "train_output['user_data'], test_output['user_data'], train_output['cluster_ids'] = clean_and_split(complete_data)\n",
    "train_output['users'] = list(train_output['user_data'].keys())\n",
    "\n",
    "test_output['cluster_ids'] = train_output['cluster_ids']\n",
    "test_output['users'] = train_output['users']\n",
    "with open('femnist-clustered/train/data.json', 'w') as file: \n",
    "    json.dump(train_output, file)\n",
    "with open('femnist-clustered/test/data.json', 'w') as file: \n",
    "    json.dump(test_output, file)"
   ]
  }
 ],
 "metadata": {
  "kernelspec": {
   "display_name": "Python 3",
   "language": "python",
   "name": "python3"
  },
  "language_info": {
   "codemirror_mode": {
    "name": "ipython",
    "version": 3
   },
   "file_extension": ".py",
   "mimetype": "text/x-python",
   "name": "python",
   "nbconvert_exporter": "python",
   "pygments_lexer": "ipython3",
   "version": "3.6.9"
  }
 },
 "nbformat": 4,
 "nbformat_minor": 2
}
